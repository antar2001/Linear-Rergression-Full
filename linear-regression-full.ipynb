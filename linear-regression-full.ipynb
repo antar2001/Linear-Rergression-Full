{
 "cells": [
  {
   "cell_type": "code",
   "execution_count": 1,
   "id": "58e0eb94",
   "metadata": {
    "_cell_guid": "b1076dfc-b9ad-4769-8c92-a6c4dae69d19",
    "_uuid": "8f2839f25d086af736a60e9eeb907d3b93b6e0e5",
    "execution": {
     "iopub.execute_input": "2024-08-22T11:33:46.934932Z",
     "iopub.status.busy": "2024-08-22T11:33:46.934479Z",
     "iopub.status.idle": "2024-08-22T11:33:47.412136Z",
     "shell.execute_reply": "2024-08-22T11:33:47.411069Z"
    },
    "papermill": {
     "duration": 0.49018,
     "end_time": "2024-08-22T11:33:47.414882",
     "exception": false,
     "start_time": "2024-08-22T11:33:46.924702",
     "status": "completed"
    },
    "tags": []
   },
   "outputs": [
    {
     "name": "stdout",
     "output_type": "stream",
     "text": [
      "/kaggle/input/newesd/Book1.csv\n",
      "/kaggle/input/drgvfd/Book1.csv\n",
      "/kaggle/input/sddcdc/Book1.csv\n",
      "/kaggle/input/sdcdcdz/Book1.csv\n"
     ]
    }
   ],
   "source": [
    "# This Python 3 environment comes with many helpful analytics libraries installed\n",
    "# It is defined by the kaggle/python Docker image: https://github.com/kaggle/docker-python\n",
    "# For example, here's several helpful packages to load\n",
    "\n",
    "import numpy as np # linear algebra\n",
    "import pandas as pd # data processing, CSV file I/O (e.g. pd.read_csv)\n",
    "\n",
    "# Input data files are available in the read-only \"../input/\" directory\n",
    "# For example, running this (by clicking run or pressing Shift+Enter) will list all files under the input directory\n",
    "\n",
    "import os\n",
    "for dirname, _, filenames in os.walk('/kaggle/input'):\n",
    "    for filename in filenames:\n",
    "        print(os.path.join(dirname, filename))\n",
    "\n",
    "# You can write up to 20GB to the current directory (/kaggle/working/) that gets preserved as output when you create a version using \"Save & Run All\" \n",
    "# You can also write temporary files to /kaggle/temp/, but they won't be saved outside of the current session"
   ]
  },
  {
   "cell_type": "code",
   "execution_count": 2,
   "id": "db8e049f",
   "metadata": {
    "execution": {
     "iopub.execute_input": "2024-08-22T11:33:47.432891Z",
     "iopub.status.busy": "2024-08-22T11:33:47.431884Z",
     "iopub.status.idle": "2024-08-22T11:33:47.437208Z",
     "shell.execute_reply": "2024-08-22T11:33:47.436114Z"
    },
    "papermill": {
     "duration": 0.016829,
     "end_time": "2024-08-22T11:33:47.439652",
     "exception": false,
     "start_time": "2024-08-22T11:33:47.422823",
     "status": "completed"
    },
    "tags": []
   },
   "outputs": [],
   "source": [
    "from matplotlib import pyplot as plt\n"
   ]
  },
  {
   "cell_type": "code",
   "execution_count": 3,
   "id": "b026ef1d",
   "metadata": {
    "execution": {
     "iopub.execute_input": "2024-08-22T11:33:47.456647Z",
     "iopub.status.busy": "2024-08-22T11:33:47.456161Z",
     "iopub.status.idle": "2024-08-22T11:33:47.491777Z",
     "shell.execute_reply": "2024-08-22T11:33:47.490720Z"
    },
    "papermill": {
     "duration": 0.047254,
     "end_time": "2024-08-22T11:33:47.494496",
     "exception": false,
     "start_time": "2024-08-22T11:33:47.447242",
     "status": "completed"
    },
    "tags": []
   },
   "outputs": [
    {
     "data": {
      "text/html": [
       "<div>\n",
       "<style scoped>\n",
       "    .dataframe tbody tr th:only-of-type {\n",
       "        vertical-align: middle;\n",
       "    }\n",
       "\n",
       "    .dataframe tbody tr th {\n",
       "        vertical-align: top;\n",
       "    }\n",
       "\n",
       "    .dataframe thead th {\n",
       "        text-align: right;\n",
       "    }\n",
       "</style>\n",
       "<table border=\"1\" class=\"dataframe\">\n",
       "  <thead>\n",
       "    <tr style=\"text-align: right;\">\n",
       "      <th></th>\n",
       "      <th>ab</th>\n",
       "      <th>bd</th>\n",
       "      <th>ck</th>\n",
       "    </tr>\n",
       "  </thead>\n",
       "  <tbody>\n",
       "    <tr>\n",
       "      <th>0</th>\n",
       "      <td>1</td>\n",
       "      <td>2</td>\n",
       "      <td>3</td>\n",
       "    </tr>\n",
       "    <tr>\n",
       "      <th>1</th>\n",
       "      <td>11</td>\n",
       "      <td>22</td>\n",
       "      <td>33</td>\n",
       "    </tr>\n",
       "    <tr>\n",
       "      <th>2</th>\n",
       "      <td>12</td>\n",
       "      <td>23</td>\n",
       "      <td>34</td>\n",
       "    </tr>\n",
       "    <tr>\n",
       "      <th>3</th>\n",
       "      <td>9</td>\n",
       "      <td>8</td>\n",
       "      <td>7</td>\n",
       "    </tr>\n",
       "  </tbody>\n",
       "</table>\n",
       "</div>"
      ],
      "text/plain": [
       "   ab  bd  ck\n",
       "0   1   2   3\n",
       "1  11  22  33\n",
       "2  12  23  34\n",
       "3   9   8   7"
      ]
     },
     "execution_count": 3,
     "metadata": {},
     "output_type": "execute_result"
    }
   ],
   "source": [
    "df=pd.read_csv(\"/kaggle/input/drgvfd/Book1.csv\")\n",
    "df"
   ]
  },
  {
   "cell_type": "code",
   "execution_count": 4,
   "id": "621e67fc",
   "metadata": {
    "execution": {
     "iopub.execute_input": "2024-08-22T11:33:47.512224Z",
     "iopub.status.busy": "2024-08-22T11:33:47.511777Z",
     "iopub.status.idle": "2024-08-22T11:33:47.522680Z",
     "shell.execute_reply": "2024-08-22T11:33:47.521587Z"
    },
    "papermill": {
     "duration": 0.02268,
     "end_time": "2024-08-22T11:33:47.525262",
     "exception": false,
     "start_time": "2024-08-22T11:33:47.502582",
     "status": "completed"
    },
    "tags": []
   },
   "outputs": [
    {
     "data": {
      "text/html": [
       "<div>\n",
       "<style scoped>\n",
       "    .dataframe tbody tr th:only-of-type {\n",
       "        vertical-align: middle;\n",
       "    }\n",
       "\n",
       "    .dataframe tbody tr th {\n",
       "        vertical-align: top;\n",
       "    }\n",
       "\n",
       "    .dataframe thead th {\n",
       "        text-align: right;\n",
       "    }\n",
       "</style>\n",
       "<table border=\"1\" class=\"dataframe\">\n",
       "  <thead>\n",
       "    <tr style=\"text-align: right;\">\n",
       "      <th></th>\n",
       "      <th>ab</th>\n",
       "      <th>bd</th>\n",
       "      <th>ck</th>\n",
       "    </tr>\n",
       "  </thead>\n",
       "  <tbody>\n",
       "    <tr>\n",
       "      <th>0</th>\n",
       "      <td>1</td>\n",
       "      <td>2</td>\n",
       "      <td>3</td>\n",
       "    </tr>\n",
       "    <tr>\n",
       "      <th>1</th>\n",
       "      <td>11</td>\n",
       "      <td>22</td>\n",
       "      <td>33</td>\n",
       "    </tr>\n",
       "    <tr>\n",
       "      <th>2</th>\n",
       "      <td>12</td>\n",
       "      <td>23</td>\n",
       "      <td>34</td>\n",
       "    </tr>\n",
       "    <tr>\n",
       "      <th>3</th>\n",
       "      <td>9</td>\n",
       "      <td>8</td>\n",
       "      <td>7</td>\n",
       "    </tr>\n",
       "  </tbody>\n",
       "</table>\n",
       "</div>"
      ],
      "text/plain": [
       "   ab  bd  ck\n",
       "0   1   2   3\n",
       "1  11  22  33\n",
       "2  12  23  34\n",
       "3   9   8   7"
      ]
     },
     "execution_count": 4,
     "metadata": {},
     "output_type": "execute_result"
    }
   ],
   "source": [
    "df.head()\n"
   ]
  },
  {
   "cell_type": "code",
   "execution_count": 5,
   "id": "69be109c",
   "metadata": {
    "execution": {
     "iopub.execute_input": "2024-08-22T11:33:47.543396Z",
     "iopub.status.busy": "2024-08-22T11:33:47.542963Z",
     "iopub.status.idle": "2024-08-22T11:33:47.558008Z",
     "shell.execute_reply": "2024-08-22T11:33:47.556675Z"
    },
    "papermill": {
     "duration": 0.027107,
     "end_time": "2024-08-22T11:33:47.560491",
     "exception": false,
     "start_time": "2024-08-22T11:33:47.533384",
     "status": "completed"
    },
    "tags": []
   },
   "outputs": [
    {
     "data": {
      "text/html": [
       "<div>\n",
       "<style scoped>\n",
       "    .dataframe tbody tr th:only-of-type {\n",
       "        vertical-align: middle;\n",
       "    }\n",
       "\n",
       "    .dataframe tbody tr th {\n",
       "        vertical-align: top;\n",
       "    }\n",
       "\n",
       "    .dataframe thead th {\n",
       "        text-align: right;\n",
       "    }\n",
       "</style>\n",
       "<table border=\"1\" class=\"dataframe\">\n",
       "  <thead>\n",
       "    <tr style=\"text-align: right;\">\n",
       "      <th></th>\n",
       "      <th>ab</th>\n",
       "      <th>bd</th>\n",
       "    </tr>\n",
       "  </thead>\n",
       "  <tbody>\n",
       "    <tr>\n",
       "      <th>0</th>\n",
       "      <td>1</td>\n",
       "      <td>2</td>\n",
       "    </tr>\n",
       "    <tr>\n",
       "      <th>1</th>\n",
       "      <td>11</td>\n",
       "      <td>22</td>\n",
       "    </tr>\n",
       "    <tr>\n",
       "      <th>2</th>\n",
       "      <td>12</td>\n",
       "      <td>23</td>\n",
       "    </tr>\n",
       "    <tr>\n",
       "      <th>3</th>\n",
       "      <td>9</td>\n",
       "      <td>8</td>\n",
       "    </tr>\n",
       "  </tbody>\n",
       "</table>\n",
       "</div>"
      ],
      "text/plain": [
       "   ab  bd\n",
       "0   1   2\n",
       "1  11  22\n",
       "2  12  23\n",
       "3   9   8"
      ]
     },
     "execution_count": 5,
     "metadata": {},
     "output_type": "execute_result"
    }
   ],
   "source": [
    "df=df.drop(columns =['ck'])\n",
    "df.head()"
   ]
  },
  {
   "cell_type": "code",
   "execution_count": 6,
   "id": "5f21c2bf",
   "metadata": {
    "execution": {
     "iopub.execute_input": "2024-08-22T11:33:47.579335Z",
     "iopub.status.busy": "2024-08-22T11:33:47.578525Z",
     "iopub.status.idle": "2024-08-22T11:33:47.924321Z",
     "shell.execute_reply": "2024-08-22T11:33:47.923165Z"
    },
    "papermill": {
     "duration": 0.358155,
     "end_time": "2024-08-22T11:33:47.927074",
     "exception": false,
     "start_time": "2024-08-22T11:33:47.568919",
     "status": "completed"
    },
    "tags": []
   },
   "outputs": [
    {
     "data": {
      "text/plain": [
       "Text(0.5, 1.0, 'Linear Regression')"
      ]
     },
     "execution_count": 6,
     "metadata": {},
     "output_type": "execute_result"
    },
    {
     "data": {
      "image/png": "[encoded data removed]",
      "text/plain": [
       "<Figure size 640x480 with 1 Axes>"
      ]
     },
     "metadata": {},
     "output_type": "display_data"
    }
   ],
   "source": [
    "plt.scatter(df['ab'],df['bd'])\n",
    "plt.xlabel(\"ab\")\n",
    "plt.ylabel(\"bd\")\n",
    "plt.title(\"Linear Regression\")"
   ]
  },
  {
   "cell_type": "code",
   "execution_count": 7,
   "id": "fab39885",
   "metadata": {
    "execution": {
     "iopub.execute_input": "2024-08-22T11:33:47.946901Z",
     "iopub.status.busy": "2024-08-22T11:33:47.946436Z",
     "iopub.status.idle": "2024-08-22T11:33:47.957527Z",
     "shell.execute_reply": "2024-08-22T11:33:47.956415Z"
    },
    "papermill": {
     "duration": 0.023974,
     "end_time": "2024-08-22T11:33:47.960024",
     "exception": false,
     "start_time": "2024-08-22T11:33:47.936050",
     "status": "completed"
    },
    "tags": []
   },
   "outputs": [
    {
     "data": {
      "text/html": [
       "<div>\n",
       "<style scoped>\n",
       "    .dataframe tbody tr th:only-of-type {\n",
       "        vertical-align: middle;\n",
       "    }\n",
       "\n",
       "    .dataframe tbody tr th {\n",
       "        vertical-align: top;\n",
       "    }\n",
       "\n",
       "    .dataframe thead th {\n",
       "        text-align: right;\n",
       "    }\n",
       "</style>\n",
       "<table border=\"1\" class=\"dataframe\">\n",
       "  <thead>\n",
       "    <tr style=\"text-align: right;\">\n",
       "      <th></th>\n",
       "      <th>ab</th>\n",
       "    </tr>\n",
       "  </thead>\n",
       "  <tbody>\n",
       "    <tr>\n",
       "      <th>0</th>\n",
       "      <td>1</td>\n",
       "    </tr>\n",
       "    <tr>\n",
       "      <th>1</th>\n",
       "      <td>11</td>\n",
       "    </tr>\n",
       "    <tr>\n",
       "      <th>2</th>\n",
       "      <td>12</td>\n",
       "    </tr>\n",
       "    <tr>\n",
       "      <th>3</th>\n",
       "      <td>9</td>\n",
       "    </tr>\n",
       "  </tbody>\n",
       "</table>\n",
       "</div>"
      ],
      "text/plain": [
       "   ab\n",
       "0   1\n",
       "1  11\n",
       "2  12\n",
       "3   9"
      ]
     },
     "execution_count": 7,
     "metadata": {},
     "output_type": "execute_result"
    }
   ],
   "source": [
    "x=df.drop('bd',axis=1)\n",
    "x.head()"
   ]
  },
  {
   "cell_type": "code",
   "execution_count": 8,
   "id": "2ad70297",
   "metadata": {
    "execution": {
     "iopub.execute_input": "2024-08-22T11:33:47.980535Z",
     "iopub.status.busy": "2024-08-22T11:33:47.979480Z",
     "iopub.status.idle": "2024-08-22T11:33:47.990413Z",
     "shell.execute_reply": "2024-08-22T11:33:47.989308Z"
    },
    "papermill": {
     "duration": 0.023522,
     "end_time": "2024-08-22T11:33:47.992711",
     "exception": false,
     "start_time": "2024-08-22T11:33:47.969189",
     "status": "completed"
    },
    "tags": []
   },
   "outputs": [
    {
     "data": {
      "text/html": [
       "<div>\n",
       "<style scoped>\n",
       "    .dataframe tbody tr th:only-of-type {\n",
       "        vertical-align: middle;\n",
       "    }\n",
       "\n",
       "    .dataframe tbody tr th {\n",
       "        vertical-align: top;\n",
       "    }\n",
       "\n",
       "    .dataframe thead th {\n",
       "        text-align: right;\n",
       "    }\n",
       "</style>\n",
       "<table border=\"1\" class=\"dataframe\">\n",
       "  <thead>\n",
       "    <tr style=\"text-align: right;\">\n",
       "      <th></th>\n",
       "      <th>bd</th>\n",
       "    </tr>\n",
       "  </thead>\n",
       "  <tbody>\n",
       "    <tr>\n",
       "      <th>0</th>\n",
       "      <td>2</td>\n",
       "    </tr>\n",
       "    <tr>\n",
       "      <th>1</th>\n",
       "      <td>22</td>\n",
       "    </tr>\n",
       "    <tr>\n",
       "      <th>2</th>\n",
       "      <td>23</td>\n",
       "    </tr>\n",
       "    <tr>\n",
       "      <th>3</th>\n",
       "      <td>8</td>\n",
       "    </tr>\n",
       "  </tbody>\n",
       "</table>\n",
       "</div>"
      ],
      "text/plain": [
       "   bd\n",
       "0   2\n",
       "1  22\n",
       "2  23\n",
       "3   8"
      ]
     },
     "execution_count": 8,
     "metadata": {},
     "output_type": "execute_result"
    }
   ],
   "source": [
    "y=df.drop('ab',axis=1)\n",
    "y.head()"
   ]
  },
  {
   "cell_type": "code",
   "execution_count": 9,
   "id": "aa627e45",
   "metadata": {
    "execution": {
     "iopub.execute_input": "2024-08-22T11:33:48.012863Z",
     "iopub.status.busy": "2024-08-22T11:33:48.012394Z",
     "iopub.status.idle": "2024-08-22T11:33:49.622393Z",
     "shell.execute_reply": "2024-08-22T11:33:49.621189Z"
    },
    "papermill": {
     "duration": 1.623276,
     "end_time": "2024-08-22T11:33:49.625113",
     "exception": false,
     "start_time": "2024-08-22T11:33:48.001837",
     "status": "completed"
    },
    "tags": []
   },
   "outputs": [],
   "source": [
    "from sklearn.linear_model import LinearRegression"
   ]
  },
  {
   "cell_type": "code",
   "execution_count": 10,
   "id": "49ffc114",
   "metadata": {
    "execution": {
     "iopub.execute_input": "2024-08-22T11:33:49.646112Z",
     "iopub.status.busy": "2024-08-22T11:33:49.645523Z",
     "iopub.status.idle": "2024-08-22T11:33:49.651085Z",
     "shell.execute_reply": "2024-08-22T11:33:49.649931Z"
    },
    "papermill": {
     "duration": 0.018826,
     "end_time": "2024-08-22T11:33:49.653425",
     "exception": false,
     "start_time": "2024-08-22T11:33:49.634599",
     "status": "completed"
    },
    "tags": []
   },
   "outputs": [],
   "source": [
    "reg=LinearRegression()"
   ]
  },
  {
   "cell_type": "code",
   "execution_count": 11,
   "id": "3ce07711",
   "metadata": {
    "execution": {
     "iopub.execute_input": "2024-08-22T11:33:49.674329Z",
     "iopub.status.busy": "2024-08-22T11:33:49.673527Z",
     "iopub.status.idle": "2024-08-22T11:33:49.683218Z",
     "shell.execute_reply": "2024-08-22T11:33:49.682154Z"
    },
    "papermill": {
     "duration": 0.022907,
     "end_time": "2024-08-22T11:33:49.685740",
     "exception": false,
     "start_time": "2024-08-22T11:33:49.662833",
     "status": "completed"
    },
    "tags": []
   },
   "outputs": [
    {
     "data": {
      "text/plain": [
       "ab    8.25\n",
       "dtype: float64"
      ]
     },
     "execution_count": 11,
     "metadata": {},
     "output_type": "execute_result"
    }
   ],
   "source": [
    "x.mean()"
   ]
  },
  {
   "cell_type": "code",
   "execution_count": 12,
   "id": "0f0fb45a",
   "metadata": {
    "execution": {
     "iopub.execute_input": "2024-08-22T11:33:49.706170Z",
     "iopub.status.busy": "2024-08-22T11:33:49.705717Z",
     "iopub.status.idle": "2024-08-22T11:33:49.714524Z",
     "shell.execute_reply": "2024-08-22T11:33:49.713420Z"
    },
    "papermill": {
     "duration": 0.021926,
     "end_time": "2024-08-22T11:33:49.716940",
     "exception": false,
     "start_time": "2024-08-22T11:33:49.695014",
     "status": "completed"
    },
    "tags": []
   },
   "outputs": [
    {
     "data": {
      "text/plain": [
       "bd    13.75\n",
       "dtype: float64"
      ]
     },
     "execution_count": 12,
     "metadata": {},
     "output_type": "execute_result"
    }
   ],
   "source": [
    "y.mean()"
   ]
  },
  {
   "cell_type": "code",
   "execution_count": 13,
   "id": "70b812eb",
   "metadata": {
    "execution": {
     "iopub.execute_input": "2024-08-22T11:33:49.738574Z",
     "iopub.status.busy": "2024-08-22T11:33:49.737538Z",
     "iopub.status.idle": "2024-08-22T11:33:50.071096Z",
     "shell.execute_reply": "2024-08-22T11:33:50.069901Z"
    },
    "papermill": {
     "duration": 0.347321,
     "end_time": "2024-08-22T11:33:50.073870",
     "exception": false,
     "start_time": "2024-08-22T11:33:49.726549",
     "status": "completed"
    },
    "tags": []
   },
   "outputs": [
    {
     "data": {
      "text/plain": [
       "Text(0.5, 1.0, 'Linear Regression')"
      ]
     },
     "execution_count": 13,
     "metadata": {},
     "output_type": "execute_result"
    },
    {
     "data": {
      "image/png": "[encoded data removed]",
      "text/plain": [
       "<Figure size 640x480 with 1 Axes>"
      ]
     },
     "metadata": {},
     "output_type": "display_data"
    }
   ],
   "source": [
    "plt.scatter(x.mean(),y.mean(),color='red')\n",
    "plt.scatter(df['ab'],df['bd'])\n",
    "plt.xlabel(\"ab\")\n",
    "plt.ylabel(\"bd\")\n",
    "plt.title(\"Linear Regression\")\n"
   ]
  },
  {
   "cell_type": "code",
   "execution_count": 14,
   "id": "123abc83",
   "metadata": {
    "execution": {
     "iopub.execute_input": "2024-08-22T11:33:50.096698Z",
     "iopub.status.busy": "2024-08-22T11:33:50.095662Z",
     "iopub.status.idle": "2024-08-22T11:33:50.121713Z",
     "shell.execute_reply": "2024-08-22T11:33:50.120521Z"
    },
    "papermill": {
     "duration": 0.040216,
     "end_time": "2024-08-22T11:33:50.124151",
     "exception": false,
     "start_time": "2024-08-22T11:33:50.083935",
     "status": "completed"
    },
    "tags": []
   },
   "outputs": [
    {
     "data": {
      "text/html": [
       "<style>#sk-container-id-1 {color: black;background-color: white;}#sk-container-id-1 pre{padding: 0;}#sk-container-id-1 div.sk-toggleable {background-color: white;}#sk-container-id-1 label.sk-toggleable__label {cursor: pointer;display: block;width: 100%;margin-bottom: 0;padding: 0.3em;box-sizing: border-box;text-align: center;}#sk-container-id-1 label.sk-toggleable__label-arrow:before {content: \"▸\";float: left;margin-right: 0.25em;color: #696969;}#sk-container-id-1 label.sk-toggleable__label-arrow:hover:before {color: black;}#sk-container-id-1 div.sk-estimator:hover label.sk-toggleable__label-arrow:before {color: black;}#sk-container-id-1 div.sk-toggleable__content {max-height: 0;max-width: 0;overflow: hidden;text-align: left;background-color: #f0f8ff;}#sk-container-id-1 div.sk-toggleable__content pre {margin: 0.2em;color: black;border-radius: 0.25em;background-color: #f0f8ff;}#sk-container-id-1 input.sk-toggleable__control:checked~div.sk-toggleable__content {max-height: 200px;max-width: 100%;overflow: auto;}#sk-container-id-1 input.sk-toggleable__control:checked~label.sk-toggleable__label-arrow:before {content: \"▾\";}#sk-container-id-1 div.sk-estimator input.sk-toggleable__control:checked~label.sk-toggleable__label {background-color: #d4ebff;}#sk-container-id-1 div.sk-label input.sk-toggleable__control:checked~label.sk-toggleable__label {background-color: #d4ebff;}#sk-container-id-1 input.sk-hidden--visually {border: 0;clip: rect(1px 1px 1px 1px);clip: rect(1px, 1px, 1px, 1px);height: 1px;margin: -1px;overflow: hidden;padding: 0;position: absolute;width: 1px;}#sk-container-id-1 div.sk-estimator {font-family: monospace;background-color: #f0f8ff;border: 1px dotted black;border-radius: 0.25em;box-sizing: border-box;margin-bottom: 0.5em;}#sk-container-id-1 div.sk-estimator:hover {background-color: #d4ebff;}#sk-container-id-1 div.sk-parallel-item::after {content: \"\";width: 100%;border-bottom: 1px solid gray;flex-grow: 1;}#sk-container-id-1 div.sk-label:hover label.sk-toggleable__label {background-color: #d4ebff;}#sk-container-id-1 div.sk-serial::before {content: \"\";position: absolute;border-left: 1px solid gray;box-sizing: border-box;top: 0;bottom: 0;left: 50%;z-index: 0;}#sk-container-id-1 div.sk-serial {display: flex;flex-direction: column;align-items: center;background-color: white;padding-right: 0.2em;padding-left: 0.2em;position: relative;}#sk-container-id-1 div.sk-item {position: relative;z-index: 1;}#sk-container-id-1 div.sk-parallel {display: flex;align-items: stretch;justify-content: center;background-color: white;position: relative;}#sk-container-id-1 div.sk-item::before, #sk-container-id-1 div.sk-parallel-item::before {content: \"\";position: absolute;border-left: 1px solid gray;box-sizing: border-box;top: 0;bottom: 0;left: 50%;z-index: -1;}#sk-container-id-1 div.sk-parallel-item {display: flex;flex-direction: column;z-index: 1;position: relative;background-color: white;}#sk-container-id-1 div.sk-parallel-item:first-child::after {align-self: flex-end;width: 50%;}#sk-container-id-1 div.sk-parallel-item:last-child::after {align-self: flex-start;width: 50%;}#sk-container-id-1 div.sk-parallel-item:only-child::after {width: 0;}#sk-container-id-1 div.sk-dashed-wrapped {border: 1px dashed gray;margin: 0 0.4em 0.5em 0.4em;box-sizing: border-box;padding-bottom: 0.4em;background-color: white;}#sk-container-id-1 div.sk-label label {font-family: monospace;font-weight: bold;display: inline-block;line-height: 1.2em;}#sk-container-id-1 div.sk-label-container {text-align: center;}#sk-container-id-1 div.sk-container {/* jupyter's `normalize.less` sets `[hidden] { display: none; }` but bootstrap.min.css set `[hidden] { display: none !important; }` so we also need the `!important` here to be able to override the default hidden behavior on the sphinx rendered scikit-learn.org. See: https://github.com/scikit-learn/scikit-learn/issues/21755 */display: inline-block !important;position: relative;}#sk-container-id-1 div.sk-text-repr-fallback {display: none;}</style><div id=\"sk-container-id-1\" class=\"sk-top-container\"><div class=\"sk-text-repr-fallback\"><pre>LinearRegression()</pre><b>In a Jupyter environment, please rerun this cell to show the HTML representation or trust the notebook. <br />On GitHub, the HTML representation is unable to render, please try loading this page with nbviewer.org.</b></div><div class=\"sk-container\" hidden><div class=\"sk-item\"><div class=\"sk-estimator sk-toggleable\"><input class=\"sk-toggleable__control sk-hidden--visually\" id=\"sk-estimator-id-1\" type=\"checkbox\" checked><label for=\"sk-estimator-id-1\" class=\"sk-toggleable__label sk-toggleable__label-arrow\">LinearRegression</label><div class=\"sk-toggleable__content\"><pre>LinearRegression()</pre></div></div></div></div></div>"
      ],
      "text/plain": [
       "LinearRegression()"
      ]
     },
     "execution_count": 14,
     "metadata": {},
     "output_type": "execute_result"
    }
   ],
   "source": [
    "reg.fit(x,y)"
   ]
  },
  {
   "cell_type": "code",
   "execution_count": 15,
   "id": "d08c03f9",
   "metadata": {
    "execution": {
     "iopub.execute_input": "2024-08-22T11:33:50.147144Z",
     "iopub.status.busy": "2024-08-22T11:33:50.146213Z",
     "iopub.status.idle": "2024-08-22T11:33:50.153667Z",
     "shell.execute_reply": "2024-08-22T11:33:50.152586Z"
    },
    "papermill": {
     "duration": 0.021711,
     "end_time": "2024-08-22T11:33:50.156328",
     "exception": false,
     "start_time": "2024-08-22T11:33:50.134617",
     "status": "completed"
    },
    "tags": []
   },
   "outputs": [
    {
     "data": {
      "text/plain": [
       "array([[1.84949833]])"
      ]
     },
     "execution_count": 15,
     "metadata": {},
     "output_type": "execute_result"
    }
   ],
   "source": [
    "m=reg.coef_\n",
    "m"
   ]
  },
  {
   "cell_type": "code",
   "execution_count": 16,
   "id": "cbe62459",
   "metadata": {
    "execution": {
     "iopub.execute_input": "2024-08-22T11:33:50.179154Z",
     "iopub.status.busy": "2024-08-22T11:33:50.178732Z",
     "iopub.status.idle": "2024-08-22T11:33:50.186899Z",
     "shell.execute_reply": "2024-08-22T11:33:50.185696Z"
    },
    "papermill": {
     "duration": 0.022578,
     "end_time": "2024-08-22T11:33:50.189356",
     "exception": false,
     "start_time": "2024-08-22T11:33:50.166778",
     "status": "completed"
    },
    "tags": []
   },
   "outputs": [
    {
     "data": {
      "text/plain": [
       "array([-1.5083612])"
      ]
     },
     "execution_count": 16,
     "metadata": {},
     "output_type": "execute_result"
    }
   ],
   "source": [
    "c = reg.intercept_\n",
    "c"
   ]
  },
  {
   "cell_type": "code",
   "execution_count": 17,
   "id": "f028f018",
   "metadata": {
    "execution": {
     "iopub.execute_input": "2024-08-22T11:33:50.212697Z",
     "iopub.status.busy": "2024-08-22T11:33:50.211726Z",
     "iopub.status.idle": "2024-08-22T11:33:50.219244Z",
     "shell.execute_reply": "2024-08-22T11:33:50.218172Z"
    },
    "papermill": {
     "duration": 0.021745,
     "end_time": "2024-08-22T11:33:50.221735",
     "exception": false,
     "start_time": "2024-08-22T11:33:50.199990",
     "status": "completed"
    },
    "tags": []
   },
   "outputs": [
    {
     "data": {
      "text/plain": [
       "array([[22.53511706]])"
      ]
     },
     "execution_count": 17,
     "metadata": {},
     "output_type": "execute_result"
    }
   ],
   "source": [
    "m*13+c"
   ]
  },
  {
   "cell_type": "code",
   "execution_count": 18,
   "id": "7503a9c8",
   "metadata": {
    "execution": {
     "iopub.execute_input": "2024-08-22T11:33:50.245434Z",
     "iopub.status.busy": "2024-08-22T11:33:50.244374Z",
     "iopub.status.idle": "2024-08-22T11:33:50.255303Z",
     "shell.execute_reply": "2024-08-22T11:33:50.253914Z"
    },
    "papermill": {
     "duration": 0.025907,
     "end_time": "2024-08-22T11:33:50.258241",
     "exception": false,
     "start_time": "2024-08-22T11:33:50.232334",
     "status": "completed"
    },
    "tags": []
   },
   "outputs": [
    {
     "name": "stderr",
     "output_type": "stream",
     "text": [
      "/opt/conda/lib/python3.10/site-packages/sklearn/base.py:439: UserWarning: X does not have valid feature names, but LinearRegression was fitted with feature names\n",
      "  warnings.warn(\n"
     ]
    },
    {
     "data": {
      "text/plain": [
       "array([[22.53511706]])"
      ]
     },
     "execution_count": 18,
     "metadata": {},
     "output_type": "execute_result"
    }
   ],
   "source": [
    "reg.predict([[13]])"
   ]
  },
  {
   "cell_type": "code",
   "execution_count": 19,
   "id": "1fdd71f3",
   "metadata": {
    "execution": {
     "iopub.execute_input": "2024-08-22T11:33:50.282527Z",
     "iopub.status.busy": "2024-08-22T11:33:50.282066Z",
     "iopub.status.idle": "2024-08-22T11:33:50.296344Z",
     "shell.execute_reply": "2024-08-22T11:33:50.295097Z"
    },
    "papermill": {
     "duration": 0.02906,
     "end_time": "2024-08-22T11:33:50.298797",
     "exception": false,
     "start_time": "2024-08-22T11:33:50.269737",
     "status": "completed"
    },
    "tags": []
   },
   "outputs": [
    {
     "data": {
      "text/html": [
       "<div>\n",
       "<style scoped>\n",
       "    .dataframe tbody tr th:only-of-type {\n",
       "        vertical-align: middle;\n",
       "    }\n",
       "\n",
       "    .dataframe tbody tr th {\n",
       "        vertical-align: top;\n",
       "    }\n",
       "\n",
       "    .dataframe thead th {\n",
       "        text-align: right;\n",
       "    }\n",
       "</style>\n",
       "<table border=\"1\" class=\"dataframe\">\n",
       "  <thead>\n",
       "    <tr style=\"text-align: right;\">\n",
       "      <th></th>\n",
       "      <th>ab</th>\n",
       "      <th>bd</th>\n",
       "      <th>predicted_y</th>\n",
       "    </tr>\n",
       "  </thead>\n",
       "  <tbody>\n",
       "    <tr>\n",
       "      <th>0</th>\n",
       "      <td>1</td>\n",
       "      <td>2</td>\n",
       "      <td>0.341137</td>\n",
       "    </tr>\n",
       "    <tr>\n",
       "      <th>1</th>\n",
       "      <td>11</td>\n",
       "      <td>22</td>\n",
       "      <td>18.836120</td>\n",
       "    </tr>\n",
       "    <tr>\n",
       "      <th>2</th>\n",
       "      <td>12</td>\n",
       "      <td>23</td>\n",
       "      <td>20.685619</td>\n",
       "    </tr>\n",
       "    <tr>\n",
       "      <th>3</th>\n",
       "      <td>9</td>\n",
       "      <td>8</td>\n",
       "      <td>15.137124</td>\n",
       "    </tr>\n",
       "  </tbody>\n",
       "</table>\n",
       "</div>"
      ],
      "text/plain": [
       "   ab  bd  predicted_y\n",
       "0   1   2     0.341137\n",
       "1  11  22    18.836120\n",
       "2  12  23    20.685619\n",
       "3   9   8    15.137124"
      ]
     },
     "execution_count": 19,
     "metadata": {},
     "output_type": "execute_result"
    }
   ],
   "source": [
    "df['predicted_y']=reg.predict(x)\n",
    "df.head()"
   ]
  },
  {
   "cell_type": "code",
   "execution_count": 20,
   "id": "26972df1",
   "metadata": {
    "execution": {
     "iopub.execute_input": "2024-08-22T11:33:50.324300Z",
     "iopub.status.busy": "2024-08-22T11:33:50.323353Z",
     "iopub.status.idle": "2024-08-22T11:33:50.610813Z",
     "shell.execute_reply": "2024-08-22T11:33:50.609730Z"
    },
    "papermill": {
     "duration": 0.303063,
     "end_time": "2024-08-22T11:33:50.613392",
     "exception": false,
     "start_time": "2024-08-22T11:33:50.310329",
     "status": "completed"
    },
    "tags": []
   },
   "outputs": [
    {
     "data": {
      "text/plain": [
       "Text(0.5, 1.0, 'Linear Regression')"
      ]
     },
     "execution_count": 20,
     "metadata": {},
     "output_type": "execute_result"
    },
    {
     "data": {
      "image/png": "[encoded data removed]",
      "text/plain": [
       "<Figure size 640x480 with 1 Axes>"
      ]
     },
     "metadata": {},
     "output_type": "display_data"
    }
   ],
   "source": [
    "plt.plot(x,reg.predict(x))\n",
    "plt.scatter(x.mean(),y.mean(),color='red')\n",
    "plt.scatter(df['ab'],df['bd'])\n",
    "plt.xlabel(\"ab\")\n",
    "plt.ylabel(\"bd\")\n",
    "plt.title(\"Linear Regression\")"
   ]
  },
  {
   "cell_type": "code",
   "execution_count": null,
   "id": "8b4ff297",
   "metadata": {
    "papermill": {
     "duration": 0.011557,
     "end_time": "2024-08-22T11:33:50.637702",
     "exception": false,
     "start_time": "2024-08-22T11:33:50.626145",
     "status": "completed"
    },
    "tags": []
   },
   "outputs": [],
   "source": []
  }
 ],
 "metadata": {
  "kaggle": {
   "accelerator": "none",
   "dataSources": [
    {
     "datasetId": 5578856,
     "sourceId": 9224577,
     "sourceType": "datasetVersion"
    },
    {
     "datasetId": 5579041,
     "sourceId": 9224817,
     "sourceType": "datasetVersion"
    },
    {
     "datasetId": 5579093,
     "sourceId": 9224877,
     "sourceType": "datasetVersion"
    },
    {
     "datasetId": 5579096,
     "sourceId": 9224882,
     "sourceType": "datasetVersion"
    }
   ],
   "dockerImageVersionId": 30761,
   "isGpuEnabled": false,
   "isInternetEnabled": false,
   "language": "python",
   "sourceType": "notebook"
  },
  "kernelspec": {
   "display_name": "Python 3",
   "language": "python",
   "name": "python3"
  },
  "language_info": {
   "codemirror_mode": {
    "name": "ipython",
    "version": 3
   },
   "file_extension": ".py",
   "mimetype": "text/x-python",
   "name": "python",
   "nbconvert_exporter": "python",
   "pygments_lexer": "ipython3",
   "version": "3.10.14"
  },
  "papermill": {
   "default_parameters": {},
   "duration": 7.333318,
   "end_time": "2024-08-22T11:33:51.270795",
   "environment_variables": {},
   "exception": null,
   "input_path": "__notebook__.ipynb",
   "output_path": "__notebook__.ipynb",
   "parameters": {},
   "start_time": "2024-08-22T11:33:43.937477",
   "version": "2.6.0"
  }
 },
 "nbformat": 4,
 "nbformat_minor": 5
}
